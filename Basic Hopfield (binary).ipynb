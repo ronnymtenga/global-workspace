{
 "cells": [
  {
   "cell_type": "code",
   "execution_count": 21,
   "id": "216f197a",
   "metadata": {},
   "outputs": [],
   "source": [
    "import numpy as np\n",
    "import matplotlib.pyplot as plt\n",
    "import copy\n",
    "import random\n",
    "import matplotlib.pyplot as plt\n",
    "\n",
    "%run definitions.ipynb\n",
    "\n",
    "#from definitions import IsScalar, Thresh, Hamming, Perturb, check_binary_array, generate_array, update, Energy, stable_state, find_thresh, num_of_cross_talk\n",
    "\n"
   ]
  },
  {
   "cell_type": "code",
   "execution_count": 22,
   "id": "ca6ea8ec",
   "metadata": {},
   "outputs": [
    {
     "data": {
      "text/plain": [
       "(3, 1000)"
      ]
     },
     "execution_count": 22,
     "metadata": {},
     "output_type": "execute_result"
    }
   ],
   "source": [
    "V = generate_array(3,1000)\n",
    "\n",
    "#TEST\n",
    "#V = np.array([\n",
    "#    [1] * 20 + [0] * 80,\n",
    "#    [0] * 80 + [1] * 20\n",
    "#    ], dtype=int)\n",
    "\n",
    "V.shape"
   ]
  },
  {
   "cell_type": "code",
   "execution_count": 23,
   "id": "1c8ec8d5",
   "metadata": {
    "scrolled": true
   },
   "outputs": [
    {
     "name": "stdout",
     "output_type": "stream",
     "text": [
      "[[1 1 1 ... 0 0 1]\n",
      " [1 1 0 ... 1 1 0]\n",
      " [1 1 0 ... 1 0 0]]\n",
      "[[482 219 219]\n",
      " [219 464 205]\n",
      " [219 205 460]]\n",
      "468.6666666666667\n",
      "468.6666666666667\n",
      "0.461522\n"
     ]
    }
   ],
   "source": [
    "while (1):\n",
    "    V_not = Perturb(V,p=450)\n",
    "    tempV = V_not@V_not.T\n",
    "    is_diagonal = True \n",
    "    for i in range(tempV.shape[0]):\n",
    "        for j in range(tempV.shape[1]):\n",
    "            if i != j and tempV[i][j] >= 220:\n",
    "                is_diagonal = False\n",
    "                break\n",
    "\n",
    "    if is_diagonal:\n",
    "        break\n",
    "\n",
    "V=V_not\n",
    "\n",
    "n,N = np.shape(V)\n",
    "\n",
    "print(V)\n",
    "print(V@V.T)\n",
    "\n",
    "att = np.sum(np.diag(V@V.T))/n\n",
    "num = num_of_cross_talk(V)\n",
    "th = find_thresh(V@V.T, num)\n",
    "print(th)\n",
    "print(att)\n",
    "print(num)"
   ]
  },
  {
   "cell_type": "code",
   "execution_count": 40,
   "id": "3631b9fb",
   "metadata": {},
   "outputs": [
    {
     "name": "stdout",
     "output_type": "stream",
     "text": [
      "[[0. 3. 1. ... 2. 1. 1.]\n",
      " [3. 0. 1. ... 2. 1. 1.]\n",
      " [1. 1. 0. ... 0. 0. 1.]\n",
      " ...\n",
      " [2. 2. 0. ... 0. 1. 0.]\n",
      " [1. 1. 0. ... 1. 0. 0.]\n",
      " [1. 1. 1. ... 0. 0. 0.]]\n"
     ]
    }
   ],
   "source": [
    "b = np.zeros(n) #percent of masking\n",
    "\n",
    "#W = (V.T@V)/n - np.eye(N)\n",
    "\n",
    "W = np.zeros((N, N))\n",
    "\n",
    "for vv in V:\n",
    "    W += np.outer(vv, vv) #outer product of a state vector and itself (autocorrelation) one by one summed into the matrix\n",
    "\n",
    "np.fill_diagonal(W, 0)\n",
    "#W = W/np.sqrt(n)\n",
    "print(W)"
   ]
  },
  {
   "cell_type": "code",
   "execution_count": 41,
   "id": "eec375cb",
   "metadata": {
    "scrolled": false
   },
   "outputs": [
    {
     "name": "stdout",
     "output_type": "stream",
     "text": [
      "distance between perturbed input state and stored state:  [100.0]\n",
      "\n",
      "initial energy:  [[-130078.]]\n"
     ]
    }
   ],
   "source": [
    "P = Perturb(V, p=100)#perturbed input state matrix\n",
    "k = 2 #np.random.randint(len(V))\n",
    "#print(k)\n",
    "in_k=P[k:k+1,]#perturbed input state\n",
    "in_V_k=V[k:k+1,]# setting in_V_k to be from the k-th column to the (k+1)_th column thus only the k-th collumn since RHS of : is not included(excluded in the list)\n",
    "in_V = np.reshape(in_V_k,(np.size(in_V_k),))\n",
    "\n",
    "print('distance between perturbed input state and stored state: ', Hamming(in_k, in_V_k))\n",
    "print()\n",
    "en_in = Energy(W, in_k)\n",
    "print('initial energy: ', en_in )"
   ]
  },
  {
   "cell_type": "code",
   "execution_count": 42,
   "id": "68672118",
   "metadata": {},
   "outputs": [
    {
     "name": "stdout",
     "output_type": "stream",
     "text": [
      "final energy:  [[-101734.]]\n",
      "\n",
      "distance between stable state and stored state:  [122.0]\n",
      "\n",
      "spurious stable state reached\n"
     ]
    }
   ],
   "source": [
    "perm = np.arange(1000)\n",
    "iter = 5\n",
    "l = 0\n",
    "e =  np.zeros(iter*len(perm))\n",
    "for i in range(iter):\n",
    "    random.shuffle(perm)\n",
    "    for j in range(len(perm)):\n",
    "        e[l] = Energy(W, in_k)\n",
    "        c=perm[j]\n",
    "        y = update(in_k, W, c, th-(att*0.09)) \n",
    "        #print('dist: ', Hamming(in_k, y), '  energy: ', Energy(W, b, y))\n",
    "        l=l+1\n",
    "        in_k = y     \n",
    "\n",
    "#grid = in_k.reshape((4, 4))\n",
    "#fig, ax = plt.subplots()\n",
    "#ax.imshow(grid, cmap='gray')\n",
    "#plt.show()\n",
    "#print()\n",
    "        \n",
    "#print('last update: ', y)  \n",
    "#print()\n",
    "en_fin = Energy(W, in_k)\n",
    "print('final energy: ', en_fin )\n",
    "print()\n",
    "print('distance between stable state and stored state: ', Hamming(in_k, in_V_k))\n",
    "print()\n",
    "\n",
    "stable_state(in_k, V)"
   ]
  },
  {
   "cell_type": "code",
   "execution_count": 43,
   "id": "03b47839",
   "metadata": {},
   "outputs": [
    {
     "data": {
      "image/png": "[encoded data removed]",
      "text/plain": [
       "<Figure size 640x480 with 1 Axes>"
      ]
     },
     "metadata": {},
     "output_type": "display_data"
    },
    {
     "name": "stdout",
     "output_type": "stream",
     "text": [
      "\n"
     ]
    }
   ],
   "source": [
    "# Set the domain size\n",
    "h = iter * len(perm)\n",
    "\n",
    "# Generate the x-axis data points (domain)\n",
    "dom = np.arange(h)\n",
    "\n",
    "# Create the scatter plot\n",
    "plt.scatter(dom, e)\n",
    "\n",
    "# Interpolate the scatter plot using linear splines\n",
    "spline = plt.plot(dom, e, 'b', linestyle='-', alpha=0.1)\n",
    "\n",
    "# Set the axis labels\n",
    "plt.xlabel('iteration')\n",
    "plt.ylabel('energy')\n",
    "\n",
    "# Set y-axis limits and ticks\n",
    "y_ticks = np.arange(-3550000, 50000, 500000)\n",
    "plt.ylim([-3550000, 50000])\n",
    "plt.yticks(y_ticks)\n",
    "\n",
    "# Display the plot\n",
    "plt.grid(True)\n",
    "plt.show() # energy from [[-3315368.47]] or [[-3262098.56]] to [[-12549090.72]]\n",
    "\n",
    "print() \n"
   ]
  },
  {
   "cell_type": "code",
   "execution_count": null,
   "id": "8c9a2a08",
   "metadata": {},
   "outputs": [],
   "source": []
  }
 ],
 "metadata": {
  "kernelspec": {
   "display_name": "Python 3 (ipykernel)",
   "language": "python",
   "name": "python3"
  },
  "language_info": {
   "codemirror_mode": {
    "name": "ipython",
    "version": 3
   },
   "file_extension": ".py",
   "mimetype": "text/x-python",
   "name": "python",
   "nbconvert_exporter": "python",
   "pygments_lexer": "ipython3",
   "version": "3.9.13"
  }
 },
 "nbformat": 4,
 "nbformat_minor": 5
}
