{
 "cells": [
  {
   "cell_type": "code",
   "execution_count": 22,
   "id": "216f197a",
   "metadata": {},
   "outputs": [],
   "source": [
    "import numpy as np\n",
    "import matplotlib.pyplot as plt\n",
    "import copy\n",
    "import random\n",
    "import matplotlib.pyplot as plt"
   ]
  },
  {
   "cell_type": "code",
   "execution_count": 23,
   "id": "932fcee4",
   "metadata": {},
   "outputs": [],
   "source": [
    "# Useful functions\n",
    "def IsScalar(x):\n",
    "    if type(x) in (list, np.ndarray,):\n",
    "        return False\n",
    "    else:\n",
    "        return True\n",
    "\n",
    "def Thresh(x):\n",
    "    if IsScalar(x):\n",
    "        val = 1 if x>0 else -1\n",
    "    else:\n",
    "        val = np.ones_like(x)\n",
    "        val[x<0] = -1.\n",
    "    return val\n",
    "\n",
    "def Hamming(x, y):\n",
    "    '''\n",
    "        d = Hamming(x,y)\n",
    "        \n",
    "        Hamming distance between two binary vectors x and y.\n",
    "        It's the number of digits that differ.\n",
    "        \n",
    "        Inputs:\n",
    "          x and y are arrays of binary vectors, and can be either {0,1} or {-1,1}\n",
    "        \n",
    "        Output:\n",
    "          d is the number of places where the inputs differ\n",
    "    '''\n",
    "    d = []\n",
    "    for xx, yy in zip(x,y):\n",
    "        dd = 0.\n",
    "        for xxx,yyy in zip(xx,yy):\n",
    "            if xxx==1 and yyy!=1:\n",
    "                dd += 1.\n",
    "            elif yyy==1 and xxx!=1:\n",
    "                dd += 1.\n",
    "        d.append(dd)\n",
    "    return d\n",
    "\n",
    "def Perturb(x, p=2):\n",
    "    '''\n",
    "        y = Perturb(x, p=0.1)\n",
    "        \n",
    "        Apply binary noise to x. With probability p, each bit will be randomly\n",
    "        set to -1 or 1.\n",
    "        \n",
    "        Inputs:\n",
    "          x is an array of binary vectors of {-1,1}\n",
    "          p is the probability of each bit being randomly flipped\n",
    "        \n",
    "        Output:\n",
    "          y is an array of binary vectors of {-1,1}\n",
    "    '''\n",
    "    y = copy.deepcopy(x)\n",
    "    for yy in y:\n",
    "        perm = random.sample(range(len(yy)), p)  # Randomly select p indices to flip\n",
    "        for v in perm:\n",
    "            yy[v] *= -1  # Flip the selected bit\n",
    "    return y"
   ]
  },
  {
   "cell_type": "code",
   "execution_count": 24,
   "id": "ca6ea8ec",
   "metadata": {},
   "outputs": [
    {
     "data": {
      "text/plain": [
       "(2, 16)"
      ]
     },
     "execution_count": 24,
     "metadata": {},
     "output_type": "execute_result"
    }
   ],
   "source": [
    "V = np.array([[ 1,  1,  1,  1,  1,  1,  1,  1, -1, -1, -1, -1, -1, -1, -1, -1],\n",
    "              [ 1, -1,  1, -1,  1, -1,  1, -1,  1, -1,  1, -1,  1, -1,  1, -1],\n",
    "             ])\n",
    "\n",
    "V.shape"
   ]
  },
  {
   "cell_type": "code",
   "execution_count": 25,
   "id": "0ea7951e",
   "metadata": {},
   "outputs": [
    {
     "name": "stdout",
     "output_type": "stream",
     "text": [
      "[[ 1  1  1  1  1  1  1  1 -1 -1 -1 -1 -1 -1 -1 -1]\n",
      " [ 1 -1  1 -1  1 -1  1 -1  1 -1  1 -1  1 -1  1 -1]]\n",
      "[[16  0]\n",
      " [ 0 16]]\n"
     ]
    }
   ],
   "source": [
    "\n",
    "'''while (1):\n",
    "    V_not = Perturb(V,p=0.7)\n",
    "    tempV = V_not@V_not.T\n",
    "    is_diagonal = True\n",
    "    for i in range(tempV.shape[0]):\n",
    "        for j in range(tempV.shape[1]):\n",
    "            if i != j and tempV[i][j] < 10 and tempV[i][j] > 0:\n",
    "                is_diagonal = False\n",
    "                break\n",
    "\n",
    "    if is_diagonal:\n",
    "        break\n",
    "\n",
    "V=V_not\n",
    "'''\n",
    "print(V)\n",
    "print(V@V.T)"
   ]
  },
  {
   "cell_type": "code",
   "execution_count": 26,
   "id": "3631b9fb",
   "metadata": {},
   "outputs": [
    {
     "name": "stdout",
     "output_type": "stream",
     "text": [
      "[[ 1.  0.  1.  0.  1.  0.  1.  0.  0. -1.  0. -1.  0. -1.  0. -1.]]\n",
      "[[ 0.  0.  1.  0.  1.  0.  1.  0.  0. -1.  0. -1.  0. -1.  0. -1.]\n",
      " [ 0.  0.  0.  1.  0.  1.  0.  1. -1.  0. -1.  0. -1.  0. -1.  0.]\n",
      " [ 1.  0.  0.  0.  1.  0.  1.  0.  0. -1.  0. -1.  0. -1.  0. -1.]\n",
      " [ 0.  1.  0.  0.  0.  1.  0.  1. -1.  0. -1.  0. -1.  0. -1.  0.]\n",
      " [ 1.  0.  1.  0.  0.  0.  1.  0.  0. -1.  0. -1.  0. -1.  0. -1.]\n",
      " [ 0.  1.  0.  1.  0.  0.  0.  1. -1.  0. -1.  0. -1.  0. -1.  0.]\n",
      " [ 1.  0.  1.  0.  1.  0.  0.  0.  0. -1.  0. -1.  0. -1.  0. -1.]\n",
      " [ 0.  1.  0.  1.  0.  1.  0.  0. -1.  0. -1.  0. -1.  0. -1.  0.]\n",
      " [ 0. -1.  0. -1.  0. -1.  0. -1.  0.  0.  1.  0.  1.  0.  1.  0.]\n",
      " [-1.  0. -1.  0. -1.  0. -1.  0.  0.  0.  0.  1.  0.  1.  0.  1.]\n",
      " [ 0. -1.  0. -1.  0. -1.  0. -1.  1.  0.  0.  0.  1.  0.  1.  0.]\n",
      " [-1.  0. -1.  0. -1.  0. -1.  0.  0.  1.  0.  0.  0.  1.  0.  1.]\n",
      " [ 0. -1.  0. -1.  0. -1.  0. -1.  1.  0.  1.  0.  0.  0.  1.  0.]\n",
      " [-1.  0. -1.  0. -1.  0. -1.  0.  0.  1.  0.  1.  0.  0.  0.  1.]\n",
      " [ 0. -1.  0. -1.  0. -1.  0. -1.  1.  0.  1.  0.  1.  0.  0.  0.]\n",
      " [-1.  0. -1.  0. -1.  0. -1.  0.  0.  1.  0.  1.  0.  1.  0.  0.]]\n"
     ]
    }
   ],
   "source": [
    "N = np.shape(V)[1]\n",
    "n = 2\n",
    "\n",
    "b = np.zeros((1, N))\n",
    "for i in range(N):\n",
    "    sum = 0\n",
    "    j = 0\n",
    "    while (j < n):\n",
    "        sum = sum + V[j][i]\n",
    "        j += 1\n",
    "    b[0, i] = float(sum / n)\n",
    "\n",
    "print(b)\n",
    "\n",
    "W = (V.T@V)/n - np.eye(N)\n",
    "\n",
    "print(W)\n"
   ]
  },
  {
   "cell_type": "code",
   "execution_count": 27,
   "id": "d195af3c",
   "metadata": {},
   "outputs": [],
   "source": [
    "def update(x, X, b, c):\n",
    "    y = x.copy()  # create a copy of x to avoid modifying it directly\n",
    "    y[0, c] = x @ X[:, c] - b[0, c]\n",
    "    y = Thresh(y)  # assign the result of Thresh(y) back to y\n",
    "    return y\n",
    "    "
   ]
  },
  {
   "cell_type": "code",
   "execution_count": 28,
   "id": "de3456d9",
   "metadata": {},
   "outputs": [],
   "source": [
    "def Energy(W, b, x):\n",
    "    E = - 0.5 * (x @ W)@x.T + b@x.T\n",
    "    return E"
   ]
  },
  {
   "cell_type": "code",
   "execution_count": 29,
   "id": "2e42b9d3",
   "metadata": {},
   "outputs": [
    {
     "name": "stdout",
     "output_type": "stream",
     "text": [
      "[-64.]\n",
      "[8.]\n"
     ]
    }
   ],
   "source": [
    "import itertools\n",
    "\n",
    "# Generate all possible permutations of a 16-dimensional bipolar vector\n",
    "all_permutations = itertools.product([-1, 1], repeat=16)\n",
    "\n",
    "# Iterate over all permutations and perform your desired action\n",
    "min_e = 0 \n",
    "max_e = -100\n",
    "for p in all_permutations:\n",
    "    vector = np.array(p)\n",
    "    energy = Energy(W,b,vector)\n",
    "    if energy<min_e:\n",
    "        min_e=energy\n",
    "    if energy>max_e:\n",
    "        max_e=energy\n",
    "        \n",
    "print(min_e)\n",
    "print(max_e)\n",
    "\n"
   ]
  },
  {
   "cell_type": "code",
   "execution_count": 30,
   "id": "eec375cb",
   "metadata": {
    "scrolled": false
   },
   "outputs": [
    {
     "name": "stdout",
     "output_type": "stream",
     "text": [
      "[[ 1  1  1  1  1  1  1  1 -1 -1 -1 -1 -1 -1 -1 -1]] stored state\n",
      "[[ 1  1  1  1  1 -1  1  1  1 -1  1 -1 -1 -1 -1  1]] noisy input state\n",
      "distance between noisy input state and stored state:  [4.0]\n",
      "\n",
      "[[ 1  1  1  1  1  1  1  1 -1 -1 -1 -1 -1 -1 -1 -1]]\n",
      "distance between stable state and stored state:  [0.0]\n"
     ]
    },
    {
     "data": {
      "image/png": "[encoded data removed]",
      "text/plain": [
       "<Figure size 640x480 with 1 Axes>"
      ]
     },
     "metadata": {},
     "output_type": "display_data"
    }
   ],
   "source": [
    "P = Perturb(V, p=4)#perturbed input state matrix\n",
    "#k = np.random.randint(len(V))\n",
    "k=0\n",
    "in_k=P[k:k+1,]#perturbed input state\n",
    "in_V_k=V[k:k+1,]# setting in_V_k to be from the k-th column to the (k+1)_th column thus only the k-th collumn since RHS of : is not included(excluded in the list)\n",
    "\n",
    "print(in_V_k,'stored state', sep=' ')#printing the training state that was perturbed\n",
    "print(in_k,'noisy input state', sep=' ')#printing the perturbation that's being fed as input\n",
    "print('distance between noisy input state and stored state: ', Hamming(in_k, in_V_k))\n",
    "print()\n",
    "\n",
    "perm = np.array([0, 1, 2, 3, 4, 5, 6, 7, 8, 9, 10, 11, 12, 13, 14, 15])\n",
    "iter = 2\n",
    "k = 0\n",
    "e =  np.zeros(iter*len(perm))\n",
    "for i in range(iter):\n",
    "    random.shuffle(perm)\n",
    "    for j in range(len(perm)):\n",
    "        e[k] = Energy(W, b, in_k)\n",
    "        c=perm[j]\n",
    "        y = update(in_k, W, b, c)\n",
    "        #print('dist: ', Hamming(in_k, y), '  energy: ', Energy(W, b, y))\n",
    "        k=k+1\n",
    "        in_k = y\n",
    "\n",
    "#print()\n",
    "print(in_k)      \n",
    "print('distance between stable state and stored state: ', Hamming(in_k, in_V_k))\n",
    "\n",
    "\n",
    "h = iter*len(perm)  # Set the domain size\n",
    "\n",
    "# Generate the x-axis data points (domain)\n",
    "dom = np.arange(h)\n",
    "\n",
    "# Create the scatter plot\n",
    "plt.scatter(dom, e)\n",
    "\n",
    "# Set the axis labels\n",
    "plt.xlabel('iteration')\n",
    "plt.ylabel('energy')\n",
    "\n",
    "# Increase y-axis resolution\n",
    "y_ticks = np.arange(-70, 10, 10)  # Adjust the step size (5 in this case) for higher or lower resolution\n",
    "plt.yticks(y_ticks)\n",
    "\n",
    "# Display the plot\n",
    "plt.grid(True)\n",
    "plt.show()\n",
    "    "
   ]
  },
  {
   "cell_type": "code",
   "execution_count": null,
   "id": "30b22180",
   "metadata": {},
   "outputs": [],
   "source": []
  }
 ],
 "metadata": {
  "kernelspec": {
   "display_name": "Python 3 (ipykernel)",
   "language": "python",
   "name": "python3"
  },
  "language_info": {
   "codemirror_mode": {
    "name": "ipython",
    "version": 3
   },
   "file_extension": ".py",
   "mimetype": "text/x-python",
   "name": "python",
   "nbconvert_exporter": "python",
   "pygments_lexer": "ipython3",
   "version": "3.9.13"
  }
 },
 "nbformat": 4,
 "nbformat_minor": 5
}
