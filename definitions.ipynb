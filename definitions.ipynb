{
 "cells": [
  {
   "cell_type": "code",
   "execution_count": 1,
   "id": "b140e9fb",
   "metadata": {},
   "outputs": [],
   "source": [
    "import numpy as np\n",
    "import matplotlib.pyplot as plt\n",
    "import copy\n",
    "import random\n",
    "import matplotlib.pyplot as plt"
   ]
  },
  {
   "cell_type": "code",
   "execution_count": 1,
   "id": "52ace0f1",
   "metadata": {},
   "outputs": [],
   "source": [
    "# Useful functions\n",
    "def IsScalar(x):\n",
    "    if type(x) in (list, np.ndarray,):\n",
    "        return False\n",
    "    else:\n",
    "        return True\n",
    "\n",
    "    \n",
    "def Thresh(x,th):\n",
    "    if IsScalar(x):\n",
    "        val = 1 if x>th else 0\n",
    "    else:\n",
    "        val = np.zeros_like(x)\n",
    "        val[x>=th] = 1\n",
    "    return val\n",
    "\n",
    "\n",
    "\n",
    "\n",
    "def Hamming(x, y):\n",
    "    d = [] #an empty list\n",
    "    for xx, yy in zip(x,y):\n",
    "        dd = 0.\n",
    "        for xxx,yyy in zip(xx,yy):\n",
    "            if xxx==1 and yyy!=1:\n",
    "                dd += 1.\n",
    "            elif yyy==1 and xxx!=1:\n",
    "                dd += 1.\n",
    "        d.append(dd)\n",
    "    return d #a list of one value\n",
    "\n",
    "\n",
    "def Perturb(X, p=2):\n",
    "    Y = copy.deepcopy(X)\n",
    "    for yy in Y:\n",
    "        perm = random.sample(range(len(yy)), p)  # Randomly select p indices to flip and put them in an array(perm)\n",
    "        for v in perm:\n",
    "            if yy[v] == 1:\n",
    "                yy[v] *= 0;\n",
    "            else:\n",
    "                yy[v] += 1;\n",
    "    return Y\n",
    "\n",
    "\n",
    "def check_binary_array(arr):\n",
    "    num_ones = np.count_nonzero(arr)\n",
    "    num_zeros = np.count_nonzero(arr == 0)\n",
    "    \n",
    "    return num_ones == num_zeros\n",
    "\n",
    "\n",
    "def generate_array(n_rows, n_cols, p=0.1):\n",
    "    # Compute the number of ones in each row using a binomial distribution\n",
    "    ones_per_row = np.random.binomial(n_cols, p, size=n_rows)\n",
    "\n",
    "    # Initialize the array with zeros\n",
    "    arr = np.zeros((n_rows, n_cols), dtype=int)\n",
    "\n",
    "    # Set the ones in each row\n",
    "    for i, ones in enumerate(ones_per_row):\n",
    "        # Randomly select the indices of the ones in the row\n",
    "        ones_indices = np.random.choice(n_cols, ones, replace=False)\n",
    "        arr[i, ones_indices] = 1\n",
    "\n",
    "    # Remove any duplicate rows\n",
    "    arr = np.unique(arr, axis=0)\n",
    "\n",
    "    # Add additional rows, if necessary\n",
    "    while arr.shape[0] < n_rows:\n",
    "        new_rows = np.random.binomial(n_cols, p, size=(n_rows - arr.shape[0],))\n",
    "        row = np.zeros(n_cols, dtype=int)\n",
    "        ones_indices = np.random.choice(n_cols, new_rows, replace=False)\n",
    "        row[ones_indices] = 1\n",
    "        arr = np.concatenate((arr, [row]), axis=0)\n",
    "\n",
    "    # Return the resulting array\n",
    "    return arr"
   ]
  },
  {
   "cell_type": "code",
   "execution_count": null,
   "id": "ee84a64e",
   "metadata": {},
   "outputs": [],
   "source": [
    "def attenuator(inner,n,pos,att):\n",
    "    b = np.zeros(n)\n",
    "    b[pos] = inner[pos]*att\n",
    "    return b"
   ]
  },
  {
   "cell_type": "code",
   "execution_count": 3,
   "id": "c01da1aa",
   "metadata": {},
   "outputs": [],
   "source": [
    "#def update(x, X, c, th):\n",
    "#    y = x.copy()  # create a copy of x to avoid modifying it directly\n",
    "#    dot_product = x @ X[:, c]\n",
    "#    y[0, c] = Thresh(dot_product, th)  # assign the result of Thresh(y) back to the c-th element of y\n",
    "#    return y"
   ]
  },
  {
   "cell_type": "code",
   "execution_count": null,
   "id": "03ba1cbf",
   "metadata": {},
   "outputs": [],
   "source": [
    "def update(x, X, c, th):\n",
    "    y = x.copy()  # create a copy of x to avoid modifying it directly\n",
    "    dot_product = x @ X[:, c]\n",
    "    y[0, c] = Thresh(dot_product, th)  # assign the result of Thresh(y) back to the c-th element of y\n",
    "    return y"
   ]
  },
  {
   "cell_type": "code",
   "execution_count": 4,
   "id": "d1d235fc",
   "metadata": {},
   "outputs": [],
   "source": [
    "def Energy(W, x):\n",
    "    E = - 0.5 * (x @ W)@x.T\n",
    "    return E"
   ]
  },
  {
   "cell_type": "code",
   "execution_count": null,
   "id": "54727139",
   "metadata": {},
   "outputs": [],
   "source": [
    "def num_of_cross_talk(arr):\n",
    "    \n",
    "    M, N = arr.shape\n",
    "    sum_vector = np.sum(arr, axis=0)\n",
    "    prob_of_ones = np.divide(sum_vector, M)\n",
    "    #n = np.max(sum_vector)\n",
    "    #for i in range(N):\n",
    "    #    if (prob_of_ones[i] >= 0.5):\n",
    "    #        sum_vector[i] = sum_vector[i] - 1\n",
    "    #n = np.max(sum_vector)\n",
    "            \n",
    "    rate_of_occurrence = np.zeros(M)\n",
    "    for i in range(1, M+1):\n",
    "        rate_of_occurrence[i-1] = np.sum(sum_vector == i) / N\n",
    "        temp = np.where(sum_vector == i, np.multiply(sum_vector, rate_of_occurrence[i-1]), sum_vector)\n",
    "        sum_vector = temp\n",
    "\n",
    "\n",
    "    n = np.mean(sum_vector)\n",
    "    \n",
    "    return n"
   ]
  },
  {
   "cell_type": "code",
   "execution_count": null,
   "id": "1be5be33",
   "metadata": {},
   "outputs": [],
   "source": [
    "def find_thresh(matrix, m):\n",
    "    n = matrix.shape[0]\n",
    "    col_means = np.zeros(n)\n",
    "    col_sum = 0\n",
    "    cross_sum = 0\n",
    "    \n",
    "    avg_inner = np.sum(np.diag(matrix))/n\n",
    "    \n",
    "    for i in range(n):\n",
    "        col_means[i] = np.mean(np.delete(matrix[:, i], i))\n",
    "        col_sum += col_means[i]\n",
    "    \n",
    "    for i in range(int(np.round(m))):\n",
    "        cross_sum += col_sum / n\n",
    "        \n",
    "    return cross_sum + avg_inner"
   ]
  },
  {
   "cell_type": "code",
   "execution_count": 5,
   "id": "629e419e",
   "metadata": {},
   "outputs": [],
   "source": [
    "def stable_state(v, M):\n",
    "    for i in range(M.shape[0]):\n",
    "        if np.array_equal(v[0], M[i]):\n",
    "            return i\n",
    "    else:\n",
    "        print('None')"
   ]
  }
 ],
 "metadata": {
  "kernelspec": {
   "display_name": "Python 3 (ipykernel)",
   "language": "python",
   "name": "python3"
  },
  "language_info": {
   "codemirror_mode": {
    "name": "ipython",
    "version": 3
   },
   "file_extension": ".py",
   "mimetype": "text/x-python",
   "name": "python",
   "nbconvert_exporter": "python",
   "pygments_lexer": "ipython3",
   "version": "3.9.13"
  }
 },
 "nbformat": 4,
 "nbformat_minor": 5
}
